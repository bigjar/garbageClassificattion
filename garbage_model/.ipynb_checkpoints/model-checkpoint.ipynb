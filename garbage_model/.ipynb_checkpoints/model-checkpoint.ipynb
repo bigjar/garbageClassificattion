{
 "cells": [
  {
   "cell_type": "code",
   "execution_count": 1,
   "metadata": {},
   "outputs": [
    {
     "name": "stderr",
     "output_type": "stream",
     "text": [
      "Using TensorFlow backend.\n"
     ]
    }
   ],
   "source": [
    "from keras.applications.inception_v3 import InceptionV3\n",
    "from keras.preprocessing import image\n",
    "from keras.models import Model\n",
    "from keras.layers import Dense, GlobalAveragePooling2D\n",
    "from keras import backend as K"
   ]
  },
  {
   "cell_type": "code",
   "execution_count": 2,
   "metadata": {},
   "outputs": [],
   "source": [
    "base_model = InceptionV3(weights='imagenet', include_top=False)"
   ]
  },
  {
   "cell_type": "code",
   "execution_count": 3,
   "metadata": {},
   "outputs": [
    {
     "data": {
      "text/plain": [
       "311"
      ]
     },
     "execution_count": 3,
     "metadata": {},
     "output_type": "execute_result"
    }
   ],
   "source": [
    "len(base_model.layers)"
   ]
  },
  {
   "cell_type": "code",
   "execution_count": 4,
   "metadata": {},
   "outputs": [
    {
     "name": "stdout",
     "output_type": "stream",
     "text": [
      "input_1\n",
      "{'batch_input_shape': (None, None, None, 3), 'dtype': 'float32', 'sparse': False, 'name': 'input_1'}\n",
      "conv2d_1\n",
      "{'name': 'conv2d_1', 'trainable': True, 'dtype': 'float32', 'filters': 32, 'kernel_size': (3, 3), 'strides': (2, 2), 'padding': 'valid', 'data_format': 'channels_last', 'dilation_rate': (1, 1), 'activation': 'linear', 'use_bias': False, 'kernel_initializer': {'class_name': 'VarianceScaling', 'config': {'scale': 1.0, 'mode': 'fan_avg', 'distribution': 'uniform', 'seed': None}}, 'bias_initializer': {'class_name': 'Zeros', 'config': {}}, 'kernel_regularizer': None, 'bias_regularizer': None, 'activity_regularizer': None, 'kernel_constraint': None, 'bias_constraint': None}\n",
      "batch_normalization_1\n",
      "{'name': 'batch_normalization_1', 'trainable': True, 'dtype': 'float32', 'axis': 3, 'momentum': 0.99, 'epsilon': 0.001, 'center': True, 'scale': False, 'beta_initializer': {'class_name': 'Zeros', 'config': {}}, 'gamma_initializer': {'class_name': 'Ones', 'config': {}}, 'moving_mean_initializer': {'class_name': 'Zeros', 'config': {}}, 'moving_variance_initializer': {'class_name': 'Ones', 'config': {}}, 'beta_regularizer': None, 'gamma_regularizer': None, 'beta_constraint': None, 'gamma_constraint': None}\n"
     ]
    }
   ],
   "source": [
    "for l in base_model.layers[:3]:\n",
    "    print(l.name)\n",
    "    print(l.get_config())"
   ]
  },
  {
   "cell_type": "code",
   "execution_count": 5,
   "metadata": {},
   "outputs": [],
   "source": [
    "x = base_model.output\n",
    "x = GlobalAveragePooling2D()(x)\n",
    "x = Dense(1024, activation='relu')(x)\n",
    "predictions = Dense(2, activation='softmax')(x)"
   ]
  },
  {
   "cell_type": "code",
   "execution_count": 6,
   "metadata": {},
   "outputs": [],
   "source": [
    "model = Model(inputs=base_model.input, outputs=predictions)\n",
    "for layer in base_model.layers:\n",
    "    layer.trainable = False\n",
    "model.compile(optimizer='rmsprop', loss='sparse_categorical_crossentropy')"
   ]
  },
  {
   "cell_type": "code",
   "execution_count": 7,
   "metadata": {},
   "outputs": [],
   "source": [
    "import os\n",
    "import pandas as pd\n",
    "from pandas.core.frame import DataFrame\n",
    "filePath = '/Users/wj/Downloads/dogs-vs-cats/train'\n",
    "fileName = os.listdir(filePath)\n",
    "data=DataFrame({\"FileName\":fileName})\n",
    "data[\"Label\"] = data[\"FileName\"].str.slice(0,3)"
   ]
  },
  {
   "cell_type": "code",
   "execution_count": 8,
   "metadata": {},
   "outputs": [],
   "source": [
    "from keras.preprocessing import image\n",
    "train_datagen = image.ImageDataGenerator()"
   ]
  },
  {
   "cell_type": "code",
   "execution_count": 13,
   "metadata": {},
   "outputs": [],
   "source": [
    "batch_size=50\n",
    "directory='/Users/wj/Downloads/dogs-vs-cats/train'\n",
    "test_data_dir='/Users/wj/Downloads/dogs-vs-cats/test2'"
   ]
  },
  {
   "cell_type": "code",
   "execution_count": 10,
   "metadata": {
    "scrolled": false
   },
   "outputs": [
    {
     "name": "stdout",
     "output_type": "stream",
     "text": [
      "Found 25000 validated image filenames belonging to 2 classes.\n"
     ]
    }
   ],
   "source": [
    "train_generator = train_datagen.flow_from_dataframe(\n",
    "    data,\n",
    "#     target_size=(img_height, img_width),\n",
    "    directory=directory,\n",
    "    x_col='FileName',\n",
    "    y_col='Label',\n",
    "    batch_size=batch_size,\n",
    "    class_mode='binary')"
   ]
  },
  {
   "cell_type": "code",
   "execution_count": 14,
   "metadata": {},
   "outputs": [
    {
     "name": "stdout",
     "output_type": "stream",
     "text": [
      "Found 3 images belonging to 2 classes.\n"
     ]
    }
   ],
   "source": [
    "test_generator = train_datagen.flow_from_directory(\n",
    "    test_data_dir,\n",
    "#     target_size=(img_height, img_width),\n",
    "    batch_size=batch_size,\n",
    "    class_mode='binary')"
   ]
  },
  {
   "cell_type": "code",
   "execution_count": 15,
   "metadata": {},
   "outputs": [
    {
     "name": "stdout",
     "output_type": "stream",
     "text": [
      "Epoch 1/100\n",
      "10/10 [==============================] - 35s 3s/step - loss: 2.9791\n",
      "Epoch 2/100\n",
      "10/10 [==============================] - 36s 4s/step - loss: 0.1890\n",
      "Epoch 3/100\n",
      "10/10 [==============================] - 36s 4s/step - loss: 0.4816\n",
      "Epoch 4/100\n",
      "10/10 [==============================] - 35s 3s/step - loss: 0.3009\n",
      "Epoch 5/100\n",
      "10/10 [==============================] - 35s 4s/step - loss: 0.1996\n",
      "Epoch 6/100\n",
      "10/10 [==============================] - 35s 3s/step - loss: 0.3651\n",
      "Epoch 7/100\n",
      "10/10 [==============================] - 35s 4s/step - loss: 0.3418\n",
      "Epoch 8/100\n",
      "10/10 [==============================] - 35s 3s/step - loss: 0.2690\n",
      "Epoch 9/100\n",
      "10/10 [==============================] - 35s 4s/step - loss: 0.2534\n",
      "Epoch 10/100\n",
      "10/10 [==============================] - 35s 4s/step - loss: 0.3699\n",
      "Epoch 11/100\n",
      "10/10 [==============================] - 36s 4s/step - loss: 0.1537\n",
      "Epoch 12/100\n",
      "10/10 [==============================] - 36s 4s/step - loss: 0.2268\n",
      "Epoch 13/100\n",
      "10/10 [==============================] - 35s 4s/step - loss: 0.1743\n",
      "Epoch 14/100\n",
      "10/10 [==============================] - 35s 3s/step - loss: 0.3702\n",
      "Epoch 15/100\n",
      "10/10 [==============================] - 35s 3s/step - loss: 0.2416\n",
      "Epoch 16/100\n",
      "10/10 [==============================] - 35s 4s/step - loss: 0.1312\n",
      "Epoch 17/100\n",
      "10/10 [==============================] - 37s 4s/step - loss: 0.3839\n",
      "Epoch 18/100\n",
      "10/10 [==============================] - 38s 4s/step - loss: 0.1507\n",
      "Epoch 19/100\n",
      "10/10 [==============================] - 38s 4s/step - loss: 0.3187\n",
      "Epoch 20/100\n",
      "10/10 [==============================] - 37s 4s/step - loss: 0.2302\n",
      "Epoch 21/100\n",
      "10/10 [==============================] - 37s 4s/step - loss: 0.2317\n",
      "Epoch 22/100\n",
      "10/10 [==============================] - 39s 4s/step - loss: 0.1875\n",
      "Epoch 23/100\n",
      "10/10 [==============================] - 37s 4s/step - loss: 0.1770\n",
      "Epoch 24/100\n",
      "10/10 [==============================] - 39s 4s/step - loss: 0.2644\n",
      "Epoch 25/100\n",
      "10/10 [==============================] - 40s 4s/step - loss: 0.2169\n",
      "Epoch 26/100\n",
      "10/10 [==============================] - 40s 4s/step - loss: 0.1907\n",
      "Epoch 27/100\n",
      "10/10 [==============================] - 41s 4s/step - loss: 0.1817\n",
      "Epoch 28/100\n",
      "10/10 [==============================] - 38s 4s/step - loss: 0.1055\n",
      "Epoch 29/100\n",
      "10/10 [==============================] - 41s 4s/step - loss: 0.2075\n",
      "Epoch 30/100\n",
      "10/10 [==============================] - 39s 4s/step - loss: 0.1059\n",
      "Epoch 31/100\n",
      "10/10 [==============================] - 40s 4s/step - loss: 0.2402\n",
      "Epoch 32/100\n",
      "10/10 [==============================] - 38s 4s/step - loss: 0.1138\n",
      "Epoch 33/100\n",
      "10/10 [==============================] - 37s 4s/step - loss: 0.1368\n",
      "Epoch 34/100\n",
      "10/10 [==============================] - 38s 4s/step - loss: 0.1752\n",
      "Epoch 35/100\n",
      "10/10 [==============================] - 37s 4s/step - loss: 0.2154\n",
      "Epoch 36/100\n",
      "10/10 [==============================] - 40s 4s/step - loss: 0.0994\n",
      "Epoch 37/100\n",
      "10/10 [==============================] - 41s 4s/step - loss: 0.1478\n",
      "Epoch 38/100\n",
      "10/10 [==============================] - 44s 4s/step - loss: 0.2341\n",
      "Epoch 39/100\n",
      "10/10 [==============================] - 42s 4s/step - loss: 0.0985\n",
      "Epoch 40/100\n",
      "10/10 [==============================] - 38s 4s/step - loss: 0.2212\n",
      "Epoch 41/100\n",
      "10/10 [==============================] - 39s 4s/step - loss: 0.1687\n",
      "Epoch 42/100\n",
      "10/10 [==============================] - 39s 4s/step - loss: 0.1301\n",
      "Epoch 43/100\n",
      "10/10 [==============================] - 37s 4s/step - loss: 0.1333\n",
      "Epoch 44/100\n",
      "10/10 [==============================] - 37s 4s/step - loss: 0.1708\n",
      "Epoch 45/100\n",
      "10/10 [==============================] - 39s 4s/step - loss: 0.1292\n",
      "Epoch 46/100\n",
      "10/10 [==============================] - 40s 4s/step - loss: 0.1161\n",
      "Epoch 47/100\n",
      "10/10 [==============================] - 41s 4s/step - loss: 0.2290\n",
      "Epoch 48/100\n",
      "10/10 [==============================] - 40s 4s/step - loss: 0.2224\n",
      "Epoch 49/100\n",
      "10/10 [==============================] - 38s 4s/step - loss: 0.1618\n",
      "Epoch 50/100\n",
      "10/10 [==============================] - 41s 4s/step - loss: 0.0889\n",
      "Epoch 51/100\n",
      "10/10 [==============================] - 38s 4s/step - loss: 0.1817\n",
      "Epoch 52/100\n",
      "10/10 [==============================] - 40s 4s/step - loss: 0.0580\n",
      "Epoch 53/100\n",
      "10/10 [==============================] - 40s 4s/step - loss: 0.1885\n",
      "Epoch 54/100\n",
      "10/10 [==============================] - 39s 4s/step - loss: 0.1045\n",
      "Epoch 55/100\n",
      "10/10 [==============================] - 40s 4s/step - loss: 0.1719\n",
      "Epoch 56/100\n",
      "10/10 [==============================] - 40s 4s/step - loss: 0.1290\n",
      "Epoch 57/100\n",
      "10/10 [==============================] - 38s 4s/step - loss: 0.1973\n",
      "Epoch 58/100\n",
      "10/10 [==============================] - 37s 4s/step - loss: 0.1156\n",
      "Epoch 59/100\n",
      "10/10 [==============================] - 37s 4s/step - loss: 0.0867\n",
      "Epoch 60/100\n",
      "10/10 [==============================] - 37s 4s/step - loss: 0.1950\n",
      "Epoch 61/100\n",
      "10/10 [==============================] - 38s 4s/step - loss: 0.1936\n",
      "Epoch 62/100\n",
      "10/10 [==============================] - 39s 4s/step - loss: 0.1456\n",
      "Epoch 63/100\n",
      "10/10 [==============================] - 36s 4s/step - loss: 0.1408\n",
      "Epoch 64/100\n",
      "10/10 [==============================] - 37s 4s/step - loss: 0.0963\n",
      "Epoch 65/100\n",
      "10/10 [==============================] - 37s 4s/step - loss: 0.0899\n",
      "Epoch 66/100\n",
      "10/10 [==============================] - 37s 4s/step - loss: 0.0932\n",
      "Epoch 67/100\n",
      "10/10 [==============================] - 37s 4s/step - loss: 0.2445\n",
      "Epoch 68/100\n",
      "10/10 [==============================] - 37s 4s/step - loss: 0.1384\n",
      "Epoch 69/100\n",
      "10/10 [==============================] - 37s 4s/step - loss: 0.2695\n",
      "Epoch 70/100\n",
      "10/10 [==============================] - 39s 4s/step - loss: 0.2284\n",
      "Epoch 71/100\n",
      "10/10 [==============================] - 37s 4s/step - loss: 0.1098\n",
      "Epoch 72/100\n",
      "10/10 [==============================] - 37s 4s/step - loss: 0.1581\n",
      "Epoch 73/100\n",
      "10/10 [==============================] - 38s 4s/step - loss: 0.1391\n",
      "Epoch 74/100\n",
      "10/10 [==============================] - 37s 4s/step - loss: 0.1218\n",
      "Epoch 75/100\n",
      "10/10 [==============================] - 37s 4s/step - loss: 0.1156\n",
      "Epoch 76/100\n",
      "10/10 [==============================] - 38s 4s/step - loss: 0.1968\n",
      "Epoch 77/100\n",
      "10/10 [==============================] - 37s 4s/step - loss: 0.1963\n",
      "Epoch 78/100\n",
      "10/10 [==============================] - 38s 4s/step - loss: 0.1480\n",
      "Epoch 79/100\n",
      "10/10 [==============================] - 37s 4s/step - loss: 0.0777\n",
      "Epoch 80/100\n",
      "10/10 [==============================] - 38s 4s/step - loss: 0.1109\n",
      "Epoch 81/100\n",
      "10/10 [==============================] - 47s 5s/step - loss: 0.1234\n",
      "Epoch 82/100\n",
      "10/10 [==============================] - 39s 4s/step - loss: 0.3137\n",
      "Epoch 83/100\n",
      "10/10 [==============================] - 35s 4s/step - loss: 0.1137\n",
      "Epoch 84/100\n",
      "10/10 [==============================] - 36s 4s/step - loss: 0.1270\n",
      "Epoch 85/100\n",
      "10/10 [==============================] - 35s 4s/step - loss: 0.2091\n",
      "Epoch 86/100\n",
      "10/10 [==============================] - 35s 4s/step - loss: 0.1664\n",
      "Epoch 87/100\n",
      "10/10 [==============================] - 35s 4s/step - loss: 0.0984\n",
      "Epoch 88/100\n",
      "10/10 [==============================] - 35s 3s/step - loss: 0.0901\n",
      "Epoch 89/100\n",
      "10/10 [==============================] - 35s 4s/step - loss: 0.1501\n",
      "Epoch 90/100\n",
      "10/10 [==============================] - 35s 4s/step - loss: 0.0889\n",
      "Epoch 91/100\n",
      "10/10 [==============================] - 35s 4s/step - loss: 0.2128\n",
      "Epoch 92/100\n",
      "10/10 [==============================] - 35s 4s/step - loss: 0.1526\n",
      "Epoch 93/100\n",
      "10/10 [==============================] - 37s 4s/step - loss: 0.2062\n",
      "Epoch 94/100\n",
      "10/10 [==============================] - 36s 4s/step - loss: 0.1474\n",
      "Epoch 95/100\n",
      "10/10 [==============================] - 36s 4s/step - loss: 0.1178\n",
      "Epoch 96/100\n",
      "10/10 [==============================] - 39s 4s/step - loss: 0.0933\n",
      "Epoch 97/100\n",
      "10/10 [==============================] - 39s 4s/step - loss: 0.1116\n",
      "Epoch 98/100\n",
      "10/10 [==============================] - 37s 4s/step - loss: 0.1704\n",
      "Epoch 99/100\n",
      "10/10 [==============================] - 37s 4s/step - loss: 0.1040\n",
      "Epoch 100/100\n",
      "10/10 [==============================] - 37s 4s/step - loss: 0.0711\n"
     ]
    },
    {
     "data": {
      "text/plain": [
       "<keras.callbacks.callbacks.History at 0x1409bcdd8>"
      ]
     },
     "execution_count": 15,
     "metadata": {},
     "output_type": "execute_result"
    }
   ],
   "source": [
    "model.fit_generator(train_generator, steps_per_epoch=10, epochs=100)"
   ]
  },
  {
   "cell_type": "code",
   "execution_count": 16,
   "metadata": {},
   "outputs": [],
   "source": [
    "def get_predict(img_path):\n",
    "    img = image.load_img(img_path)\n",
    "    # print(type(img))\n",
    "    x = image.img_to_array(img)\n",
    "    # 扩展数据维度\n",
    "    x = image.img_to_array(img)\n",
    "    return model.predict(np.expand_dims(x, axis=0))"
   ]
  },
  {
   "cell_type": "code",
   "execution_count": 18,
   "metadata": {},
   "outputs": [
    {
     "data": {
      "text/plain": [
       "array([[1., 0.]], dtype=float32)"
      ]
     },
     "execution_count": 18,
     "metadata": {},
     "output_type": "execute_result"
    }
   ],
   "source": [
    "import numpy as np\n",
    "get_predict(\"/Users/wj/Downloads/dogs-vs-cats/test1/1.jpg\")"
   ]
  },
  {
   "cell_type": "code",
   "execution_count": null,
   "metadata": {},
   "outputs": [],
   "source": []
  }
 ],
 "metadata": {
  "kernelspec": {
   "display_name": "Python 3",
   "language": "python",
   "name": "python3"
  },
  "language_info": {
   "codemirror_mode": {
    "name": "ipython",
    "version": 3
   },
   "file_extension": ".py",
   "mimetype": "text/x-python",
   "name": "python",
   "nbconvert_exporter": "python",
   "pygments_lexer": "ipython3",
   "version": "3.6.1"
  }
 },
 "nbformat": 4,
 "nbformat_minor": 2
}
